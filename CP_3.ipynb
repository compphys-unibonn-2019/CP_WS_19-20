{
 "cells": [
  {
   "cell_type": "code",
   "execution_count": 5,
   "metadata": {},
   "outputs": [],
   "source": [
    "import numpy as np\n",
    "import matplotlib.pyplot as plt\n",
    "from mpl_toolkits.mplot3d import Axes3D\n",
    "%matplotlib widget"
   ]
  },
  {
   "cell_type": "code",
   "execution_count": 6,
   "metadata": {},
   "outputs": [
    {
     "name": "stdout",
     "output_type": "stream",
     "text": [
      "65539 2147483648 3\n"
     ]
    }
   ],
   "source": [
    "a = 65539  #19 #7^5\n",
    "m = 2**31  #6788793 #(2^31) -1\n",
    "n = 3\n",
    "print(a,m,n)"
   ]
  },
  {
   "cell_type": "code",
   "execution_count": 7,
   "metadata": {},
   "outputs": [
    {
     "data": {
      "application/vnd.jupyter.widget-view+json": {
       "model_id": "bb960220ce004bec93c123a4b584b61f",
       "version_major": 2,
       "version_minor": 0
      },
      "text/plain": [
       "FigureCanvasNbAgg()"
      ]
     },
     "metadata": {},
     "output_type": "display_data"
    },
    {
     "data": {
      "text/plain": [
       "<mpl_toolkits.mplot3d.art3d.Path3DCollection at 0x11350fd68>"
      ]
     },
     "execution_count": 7,
     "metadata": {},
     "output_type": "execute_result"
    }
   ],
   "source": [
    "val1=np.array([])\n",
    "val2=np.array([])\n",
    "val3=np.array([])\n",
    "np.random.seed(19680801)\n",
    "\n",
    "\n",
    "x1 = np.random.random()\n",
    "x=[]\n",
    "x=np.append(x,x1)\n",
    "    \n",
    "\n",
    "\n",
    "for i in range(10000):\n",
    "    xi = np.mod((a*x[i]),m)\n",
    "    x = np.append(x,xi)\n",
    "    \n",
    "    if(i>=2):\n",
    "        val1=np.append(val1,x[i-2]/m)\n",
    "        val2=np.append(val2,x[i-1]/m)\n",
    "        val3=np.append(val3,x[i]/m)\n",
    "fig = plt.figure(figsize=(10,8))\n",
    "ax = fig.add_subplot(111,projection='3d')\n",
    "ax.scatter(val1,val2,val3)\n",
    "#plt.hist(x)"
   ]
  },
  {
   "cell_type": "code",
   "execution_count": 68,
   "metadata": {},
   "outputs": [],
   "source": [
    "(3 * m)**(1/2)\n",
    "valy = 9*val1-6*val2+val3"
   ]
  },
  {
   "cell_type": "code",
   "execution_count": 76,
   "metadata": {},
   "outputs": [
    {
     "data": {
      "application/vnd.jupyter.widget-view+json": {
       "model_id": "f86500804b544eec8067a4babf2e3687",
       "version_major": 2,
       "version_minor": 0
      },
      "text/plain": [
       "FigureCanvasNbAgg()"
      ]
     },
     "metadata": {},
     "output_type": "display_data"
    }
   ],
   "source": [
    "fig = plt.figure(figsize=(6,4))\n",
    "ax = fig.add_subplot(111)\n",
    "\n",
    "ax.scatter(val1,valy)\n",
    "plt.show()"
   ]
  },
  {
   "cell_type": "code",
   "execution_count": 56,
   "metadata": {},
   "outputs": [
    {
     "data": {
      "application/vnd.jupyter.widget-view+json": {
       "model_id": "",
       "version_major": 2,
       "version_minor": 0
      },
      "text/plain": [
       "FigureCanvasNbAgg()"
      ]
     },
     "metadata": {},
     "output_type": "display_data"
    },
    {
     "data": {
      "text/plain": [
       "<mpl_toolkits.mplot3d.art3d.Path3DCollection at 0x15e52ee48>"
      ]
     },
     "execution_count": 56,
     "metadata": {},
     "output_type": "execute_result"
    }
   ],
   "source": [
    "'''val1=[]\n",
    "val2=[]\n",
    "val3=[]\n",
    "\n",
    "#np.random.seed(19680801)\n",
    "for j in range(10000):\n",
    "\n",
    "    x1 = np.random.random()\n",
    "    x=[]\n",
    "    x=np.append(x,x1)\n",
    "    \n",
    "\n",
    "\n",
    "    for i in range(n):\n",
    "        xi = np.mod((a*x[i]),m)\n",
    "        x = np.append(x,xi)\n",
    "\n",
    "    \n",
    "    #print(x)\n",
    "    val1=np.append(val1,x[0]/m)\n",
    "    val2=np.append(val2,x[1]/m)\n",
    "    val3=np.append(val3,x[2]/m)\n",
    "\n",
    "fig = plt.figure(figsize=(10,8))\n",
    "ax = fig.add_subplot(111,projection='3d')\n",
    "ax.scatter(val1,val2,val3)\n",
    "'''"
   ]
  }
 ],
 "metadata": {
  "kernelspec": {
   "display_name": "Python 3",
   "language": "python",
   "name": "python3"
  },
  "language_info": {
   "codemirror_mode": {
    "name": "ipython",
    "version": 3
   },
   "file_extension": ".py",
   "mimetype": "text/x-python",
   "name": "python",
   "nbconvert_exporter": "python",
   "pygments_lexer": "ipython3",
   "version": "3.6.2"
  }
 },
 "nbformat": 4,
 "nbformat_minor": 2
}
